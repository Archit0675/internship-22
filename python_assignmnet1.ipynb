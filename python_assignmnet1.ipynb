{
 "cells": [
  {
   "cell_type": "code",
   "execution_count": null,
   "id": "ef80ed86",
   "metadata": {},
   "outputs": [],
   "source": [
    "## Write a python program to find the factorial of a number."
   ]
  },
  {
   "cell_type": "code",
   "execution_count": null,
   "id": "a95871e4",
   "metadata": {},
   "outputs": [],
   "source": [
    "def factorial(n):\n",
    "    return 1 if (n==1) else n * factorial(n - 1)\n",
    "num = 5\n",
    "\n",
    "print(\"Factorial of\",num,\"is\",factorial(num))"
   ]
  },
  {
   "cell_type": "code",
   "execution_count": null,
   "id": "a089f6c9",
   "metadata": {},
   "outputs": [],
   "source": [
    "## Write a python program to find whether a number is prime or composite"
   ]
  },
  {
   "cell_type": "code",
   "execution_count": null,
   "id": "b4efadf9",
   "metadata": {},
   "outputs": [],
   "source": [
    "n=int(input(\"enter your number : \"))\n",
    "if n<2:\n",
    "    print (\" Not a prime number nor composite\")\n",
    "else:\n",
    "        for i in range (2,n):\n",
    "            if n % i == 0:\n",
    "                print (\"composite number\")\n",
    "                break\n",
    "            else:\n",
    "                print(\"this is a prime number\")               "
   ]
  },
  {
   "cell_type": "code",
   "execution_count": null,
   "id": "e8b34c5f",
   "metadata": {},
   "outputs": [],
   "source": [
    "## Write a python program to check whether a given string is palindrome or not"
   ]
  },
  {
   "cell_type": "code",
   "execution_count": null,
   "id": "d7d2ffcd",
   "metadata": {},
   "outputs": [],
   "source": [
    "a = input(\"enter a string : \")\n",
    "b = a[-1::-1]\n",
    "if a == b:\n",
    "    print (\"this is palindrome string\")\n",
    "else:\n",
    "        print (\"not a palindrome string\")"
   ]
  },
  {
   "cell_type": "code",
   "execution_count": null,
   "id": "1a4925fc",
   "metadata": {},
   "outputs": [],
   "source": [
    "## Write a Python program to get the third side of right-angled triangle from two given sides"
   ]
  },
  {
   "cell_type": "code",
   "execution_count": null,
   "id": "40a15ee4",
   "metadata": {},
   "outputs": [],
   "source": [
    "from math import sqrt\n",
    "a = int(input(\"enter a : \"))\n",
    "b = int(input(\"enter b : \"))  \n",
    "c = sqrt(a**2 + b**2)\n",
    "print (\"the third side of the right angle triangle : \", c)"
   ]
  },
  {
   "cell_type": "code",
   "execution_count": null,
   "id": "5fa85bf4",
   "metadata": {},
   "outputs": [],
   "source": [
    "## Write a python program to print the frequency of each of the characters present in a given string"
   ]
  },
  {
   "cell_type": "code",
   "execution_count": null,
   "id": "334800df",
   "metadata": {},
   "outputs": [],
   "source": [
    "a = input (\"enter the string\")\n",
    "d1 = dict()\n",
    "for i in a:\n",
    "    d1[i] = d1.get(i , 0) + 1\n",
    "print (d1) "
   ]
  },
  {
   "cell_type": "code",
   "execution_count": null,
   "id": "4a888325",
   "metadata": {},
   "outputs": [],
   "source": []
  }
 ],
 "metadata": {
  "kernelspec": {
   "display_name": "Python 3",
   "language": "python",
   "name": "python3"
  },
  "language_info": {
   "codemirror_mode": {
    "name": "ipython",
    "version": 3
   },
   "file_extension": ".py",
   "mimetype": "text/x-python",
   "name": "python",
   "nbconvert_exporter": "python",
   "pygments_lexer": "ipython3",
   "version": "3.8.8"
  }
 },
 "nbformat": 4,
 "nbformat_minor": 5
}
